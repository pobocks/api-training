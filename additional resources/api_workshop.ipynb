{
 "cells": [
  {
   "cell_type": "code",
   "execution_count": 1,
   "metadata": {
    "slideshow": {
     "slide_type": "skip"
    }
   },
   "outputs": [],
   "source": [
    "# Preamble slide - put stuff not for consumption by ppl\n",
    "# run prior to setting up pres\n",
    "def take(i, it):\n",
    "    it = iter(it)\n",
    "    out = []\n",
    "    for _ in range(i):\n",
    "        try:\n",
    "             out.append(next(it))\n",
    "        except StopIteration:\n",
    "            pass\n",
    "    return out\n"
   ]
  },
  {
   "cell_type": "markdown",
   "metadata": {
    "slideshow": {
     "slide_type": "slide"
    }
   },
   "source": [
    "# ArchivesSnake - Abstraction Layer\n",
    "\n",
    "Being an attempt to convey some of the functions of ASnake meant to remove one from the drudgery of everyday\n",
    "API manipulation, and thus enable one to experience the transports and delights of having easy access to one's data."
   ]
  },
  {
   "cell_type": "markdown",
   "metadata": {
    "slideshow": {
     "slide_type": "slide"
    }
   },
   "source": [
    "## Initialization and Logging\n",
    "\n",
    "There comes a time in the affairs of hummankind where one must do things, and also write down that those things have been done and roughly when."
   ]
  },
  {
   "cell_type": "code",
   "execution_count": null,
   "metadata": {
    "slideshow": {
     "slide_type": "slide"
    }
   },
   "outputs": [],
   "source": [
    "from asnake.aspace import ASpace\n",
    "import asnake.logging as logging\n",
    "\n",
    "logging.setup_logging(logging.INFO_TO_STDOUT)\n",
    "aspace = ASpace() # using default configuration values\n",
    "log = logging.get_logger('my_script')"
   ]
  },
  {
   "cell_type": "markdown",
   "metadata": {
    "slideshow": {
     "slide_type": "slide"
    }
   },
   "source": [
    "## everything = ASpace()\n",
    "\n",
    "The ASpace class produces objects that represent the entirety of the API.  It's intended to make it easy to get records out of the system, and to particularly make convenient access to individual fields in records.\n",
    "\n",
    "For example, to print the titles of all resources in the system, you can do this:"
   ]
  },
  {
   "cell_type": "code",
   "execution_count": null,
   "metadata": {
    "slideshow": {
     "slide_type": "slide"
    }
   },
   "outputs": [],
   "source": [
    "[res.title for res in aspace.resources]"
   ]
  },
  {
   "cell_type": "markdown",
   "metadata": {
    "slideshow": {
     "slide_type": "slide"
    }
   },
   "source": [
    "Or, say you wanted to do something with the titles of all archival objects in all of resources?"
   ]
  },
  {
   "cell_type": "code",
   "execution_count": null,
   "metadata": {
    "scrolled": true,
    "slideshow": {
     "slide_type": "slide"
    }
   },
   "outputs": [],
   "source": [
    "# take(limit, thing) gets the first `limit` objects in `thing` \n",
    "for res in aspace.resources:\n",
    "    for ao in take(5, res.tree.walk):\n",
    "        if ao.jsonmodel_type == 'archival_object':\n",
    "            print(ao.title)\n"
   ]
  },
  {
   "cell_type": "markdown",
   "metadata": {
    "slideshow": {
     "slide_type": "slide"
    }
   },
   "source": [
    "The ASpace object and objects returned from it largely have methods that match either routes in the API or keys in the JSON returned by the API.\n",
    "\n",
    "For example,\n",
    "\n",
    "### API Route\n",
    "\n",
    "```\n",
    "http://localhost:4567/repositories/2/resources\n",
    "```\n",
    "\n",
    "### ASnakeClient\n",
    "\n",
    "```\n",
    "aspace.client.get('repositories/2/resources')\n",
    "```\n",
    "\n",
    "### ASpace\n",
    "\n",
    "```\n",
    "ASpace.repositories(2).resources\n",
    "```\n"
   ]
  },
  {
   "cell_type": "markdown",
   "metadata": {
    "slideshow": {
     "slide_type": "slide"
    }
   },
   "source": [
    "## That third one though\n",
    "\n",
    "A lot's happening in that third one, so let's examine it more closely."
   ]
  },
  {
   "cell_type": "code",
   "execution_count": null,
   "metadata": {
    "slideshow": {
     "slide_type": "slide"
    }
   },
   "outputs": [],
   "source": [
    "aspace.repositories"
   ]
  },
  {
   "cell_type": "markdown",
   "metadata": {
    "slideshow": {
     "slide_type": "slide"
    }
   },
   "source": [
    "What's a JSONModelRelation?  Well, it's an object that represents an API route in ArchivesSpace."
   ]
  },
  {
   "cell_type": "code",
   "execution_count": null,
   "metadata": {
    "slideshow": {
     "slide_type": "slide"
    }
   },
   "outputs": [],
   "source": [
    "aspace.repositories(2)"
   ]
  },
  {
   "cell_type": "code",
   "execution_count": null,
   "metadata": {},
   "outputs": [],
   "source": [
    "type(aspace.repositories(2))"
   ]
  },
  {
   "cell_type": "markdown",
   "metadata": {
    "slideshow": {
     "slide_type": "slide"
    }
   },
   "source": [
    "What's a JSONModelObject?  It's an object that represents a singular record returned from the API (a single resource, archival object, digital object, etc.)"
   ]
  },
  {
   "cell_type": "code",
   "execution_count": null,
   "metadata": {
    "slideshow": {
     "slide_type": "slide"
    }
   },
   "outputs": [],
   "source": [
    "aspace.repositories(2).json()"
   ]
  },
  {
   "cell_type": "markdown",
   "metadata": {
    "slideshow": {
     "slide_type": "slide"
    }
   },
   "source": [
    "So, you can get the JSON out of it pretty easily... but often, you don't really care about the whole shebang."
   ]
  },
  {
   "cell_type": "code",
   "execution_count": null,
   "metadata": {
    "slideshow": {
     "slide_type": "slide"
    }
   },
   "outputs": [],
   "source": [
    "aspace.repositories(2).display_string"
   ]
  },
  {
   "cell_type": "markdown",
   "metadata": {
    "slideshow": {
     "slide_type": "slide"
    }
   },
   "source": [
    "Or, sometimes, you want to get something that's logically descendant (i.e. exists in the API in a subsidiary route) but not present in the JSON."
   ]
  },
  {
   "cell_type": "code",
   "execution_count": null,
   "metadata": {},
   "outputs": [],
   "source": [
    "aspace.repositories(2).archival_objects"
   ]
  },
  {
   "cell_type": "code",
   "execution_count": null,
   "metadata": {},
   "outputs": [],
   "source": [
    "take(10, aspace.repositories(2).archival_objects)"
   ]
  },
  {
   "cell_type": "markdown",
   "metadata": {
    "slideshow": {
     "slide_type": "slide"
    }
   },
   "source": [
    "## Short Version\n",
    "\n",
    "The ASpace object is meant to make it easy to get things out of ArchivesSpace... but you need to know:\n",
    "\n",
    "* what API routes do my records live at?\n",
    "* what information do I need to provide them to get my records?\n",
    "* what properties do the records returned by the API have?"
   ]
  },
  {
   "cell_type": "markdown",
   "metadata": {
    "slideshow": {
     "slide_type": "slide"
    }
   },
   "source": [
    "## Where's the Map?\n"
   ]
  },
  {
   "cell_type": "markdown",
   "metadata": {
    "slideshow": {
     "slide_type": "slide"
    }
   },
   "source": [
    "## What API routes do my records live at?\n",
    "\n",
    "Largely a solved problem, enumerated accurately in docs.\n",
    "\n",
    "* https://archivesspace.github.io/archivesspace/api/#get-repositories-repo_id-archival_objects\n",
    "\n",
    "* https://pobocks.github.io/aspace_api_cheatsheet/\n"
   ]
  },
  {
   "cell_type": "markdown",
   "metadata": {
    "slideshow": {
     "slide_type": "slide"
    }
   },
   "source": [
    "## What information do I need to provide them to get my records?\n",
    "\n",
    "NOT a solved problem - for various reasons, the API docs are often not explicit enough, all examples are raw curl only, and many examples are outright incorrect.\n",
    "\n"
   ]
  },
  {
   "cell_type": "markdown",
   "metadata": {
    "slideshow": {
     "slide_type": "slide"
    }
   },
   "source": [
    "## What information do I need to provide them to get my records?\n",
    "\n",
    "* Example objects \n",
    "  * https://github.com/archivesspace-labs/ArchivesSnake/wiki/Commonly-Used-Objects\n",
    "  * \n",
    "* Schemas - https://github.com/archivesspace/archivesspace/tree/master/common/schemas"
   ]
  },
  {
   "cell_type": "code",
   "execution_count": null,
   "metadata": {
    "slideshow": {
     "slide_type": "slide"
    }
   },
   "outputs": [],
   "source": [
    "# ALL SCHEMAS, output too big to display\n",
    "aspace.client.get('schemas') \n",
    "\n",
    "# Any particular schema!\n",
    "aspace.client.get('schemas/term').json()"
   ]
  },
  {
   "cell_type": "markdown",
   "metadata": {},
   "source": [
    "## What information do I need to provide them to get my records?\n",
    "\n",
    "* Example objects - https://github.com/archivesspace-labs/ArchivesSnake/wiki/Commonly-Used-Objects\n",
    "* Schemas - https://github.com/archivesspace/archivesspace/tree/master/common/schemas\n",
    "* The Actual Code - https://github.com/archivesspace/archivesspace/tree/master/backend/app/controllers"
   ]
  },
  {
   "cell_type": "markdown",
   "metadata": {},
   "source": [
    "## Thank you!\n",
    "\n",
    "ArchivesSnake\n",
    "* https://github.com/archivesspace-labs/ArchivesSnake\n",
    "\n",
    "Dave Mayo \n",
    "* Twitter: @pobocks\n",
    "* Email: dave_mayo@harvard.edu\n"
   ]
  }
 ],
 "metadata": {
  "celltoolbar": "Slideshow",
  "kernelspec": {
   "display_name": "Python 3",
   "language": "python",
   "name": "python3"
  },
  "language_info": {
   "codemirror_mode": {
    "name": "ipython",
    "version": 3
   },
   "file_extension": ".py",
   "mimetype": "text/x-python",
   "name": "python",
   "nbconvert_exporter": "python",
   "pygments_lexer": "ipython3",
   "version": "3.7.0"
  }
 },
 "nbformat": 4,
 "nbformat_minor": 2
}
